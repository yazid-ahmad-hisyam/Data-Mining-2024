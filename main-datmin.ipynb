{
 "cells": [
  {
   "cell_type": "markdown",
   "metadata": {},
   "source": [
    "# Cell 1: Import Library"
   ]
  },
  {
   "cell_type": "code",
   "execution_count": 19,
   "metadata": {},
   "outputs": [],
   "source": [
    "import os\n",
    "import pandas as pd\n",
    "import numpy as np\n",
    "import matplotlib.pyplot as plt\n",
    "import seaborn as sns\n",
    "import cv2\n",
    "from PIL import Image\n",
    "import torch\n",
    "from torchvision import transforms\n",
    "from torch.utils.data import Dataset, DataLoader, random_split"
   ]
  },
  {
   "cell_type": "markdown",
   "metadata": {},
   "source": [
    "# Cell 2: Memuat dan Menampilkan Informasi Dataset"
   ]
  },
  {
   "cell_type": "code",
   "execution_count": 20,
   "metadata": {},
   "outputs": [
    {
     "name": "stdout",
     "output_type": "stream",
     "text": [
      "<class 'pandas.core.frame.DataFrame'>\n",
      "RangeIndex: 777 entries, 0 to 776\n",
      "Data columns (total 3 columns):\n",
      " #   Column  Non-Null Count  Dtype\n",
      "---  ------  --------------  -----\n",
      " 0   id      777 non-null    int64\n",
      " 1   jenis   777 non-null    int64\n",
      " 2   warna   777 non-null    int64\n",
      "dtypes: int64(3)\n",
      "memory usage: 18.3 KB\n"
     ]
    }
   ],
   "source": [
    "# Direktori Gambar\n",
    "data_image = 'dataset/train'\n",
    "\n",
    "# Memuat file CSV\n",
    "data = pd.read_csv('dataset/train.csv')\n",
    "data.info()"
   ]
  },
  {
   "cell_type": "markdown",
   "metadata": {},
   "source": [
    "# Cell 3: Ekstraksi Data Gambar"
   ]
  },
  {
   "cell_type": "code",
   "execution_count": 21,
   "metadata": {},
   "outputs": [
    {
     "data": {
      "text/html": [
       "<div>\n",
       "<style scoped>\n",
       "    .dataframe tbody tr th:only-of-type {\n",
       "        vertical-align: middle;\n",
       "    }\n",
       "\n",
       "    .dataframe tbody tr th {\n",
       "        vertical-align: top;\n",
       "    }\n",
       "\n",
       "    .dataframe thead th {\n",
       "        text-align: right;\n",
       "    }\n",
       "</style>\n",
       "<table border=\"1\" class=\"dataframe\">\n",
       "  <thead>\n",
       "    <tr style=\"text-align: right;\">\n",
       "      <th></th>\n",
       "      <th>id</th>\n",
       "      <th>pixels</th>\n",
       "    </tr>\n",
       "  </thead>\n",
       "  <tbody>\n",
       "    <tr>\n",
       "      <th>0</th>\n",
       "      <td>1</td>\n",
       "      <td>242 242 242 242 242 242 242 242 242 242 242 24...</td>\n",
       "    </tr>\n",
       "    <tr>\n",
       "      <th>1</th>\n",
       "      <td>10</td>\n",
       "      <td>255 255 255 255 255 255 255 255 255 255 255 25...</td>\n",
       "    </tr>\n",
       "    <tr>\n",
       "      <th>2</th>\n",
       "      <td>100</td>\n",
       "      <td>250 250 250 250 250 250 250 250 250 250 250 25...</td>\n",
       "    </tr>\n",
       "    <tr>\n",
       "      <th>3</th>\n",
       "      <td>101</td>\n",
       "      <td>255 255 255 255 255 255 255 255 255 255 255 25...</td>\n",
       "    </tr>\n",
       "    <tr>\n",
       "      <th>4</th>\n",
       "      <td>102</td>\n",
       "      <td>153 104 45 151 103 41 149 101 38 148 100 35 14...</td>\n",
       "    </tr>\n",
       "  </tbody>\n",
       "</table>\n",
       "</div>"
      ],
      "text/plain": [
       "    id                                             pixels\n",
       "0    1  242 242 242 242 242 242 242 242 242 242 242 24...\n",
       "1   10  255 255 255 255 255 255 255 255 255 255 255 25...\n",
       "2  100  250 250 250 250 250 250 250 250 250 250 250 25...\n",
       "3  101  255 255 255 255 255 255 255 255 255 255 255 25...\n",
       "4  102  153 104 45 151 103 41 149 101 38 148 100 35 14..."
      ]
     },
     "execution_count": 21,
     "metadata": {},
     "output_type": "execute_result"
    }
   ],
   "source": [
    "image_data = []\n",
    "image_ids = []\n",
    "\n",
    "# ekstraksi id dan pixel gambar ke dalam dataframe\n",
    "for img_file in os.listdir(data_image):\n",
    "    img_path = os.path.join(data_image, img_file)\n",
    "\n",
    "    if os.path.isfile(img_path):\n",
    "        # mendapatkan id gambar dari nama file\n",
    "        img_id = np.int64(os.path.splitext(img_file)[0])\n",
    "\n",
    "        # memuat gambar dengan format BGR\n",
    "        image = cv2.imread(img_path, cv2.IMREAD_COLOR)\n",
    "\n",
    "        if image is not None:\n",
    "            # mengonversi gambar dari BGR ke RGB\n",
    "            image = cv2.cvtColor(image, cv2.COLOR_BGR2RGB)\n",
    "\n",
    "            # meresize gambar\n",
    "            image = cv2.resize(image, (244, 244))\n",
    "\n",
    "            # meratakan gambar menjadi array 1D dan mengubahnya ke string\n",
    "            image_flat = ' '.join(map(str, image.flatten()))\n",
    "\n",
    "            # menyimpan pixel dan id gambar\n",
    "            image_data.append(image_flat)\n",
    "            image_ids.append(img_id)\n",
    "\n",
    "df = pd.DataFrame({\n",
    "    'id': image_ids,\n",
    "    'pixels': image_data\n",
    "})\n",
    "\n",
    "df.head()"
   ]
  },
  {
   "cell_type": "markdown",
   "metadata": {},
   "source": [
    "# Cell 4: Menghitung Duplikasi Data"
   ]
  },
  {
   "cell_type": "code",
   "execution_count": 22,
   "metadata": {},
   "outputs": [
    {
     "name": "stdout",
     "output_type": "stream",
     "text": [
      "Jumlah duplikat: 5\n"
     ]
    }
   ],
   "source": [
    "duplicate_count = df.duplicated(subset='pixels').sum()\n",
    "\n",
    "print(f\"Jumlah duplikat: {duplicate_count}\")"
   ]
  },
  {
   "cell_type": "markdown",
   "metadata": {},
   "source": [
    "# Cell 5: Menampilkan Data Duplikat"
   ]
  },
  {
   "cell_type": "code",
   "execution_count": 23,
   "metadata": {},
   "outputs": [
    {
     "data": {
      "text/html": [
       "<div>\n",
       "<style scoped>\n",
       "    .dataframe tbody tr th:only-of-type {\n",
       "        vertical-align: middle;\n",
       "    }\n",
       "\n",
       "    .dataframe tbody tr th {\n",
       "        vertical-align: top;\n",
       "    }\n",
       "\n",
       "    .dataframe thead th {\n",
       "        text-align: right;\n",
       "    }\n",
       "</style>\n",
       "<table border=\"1\" class=\"dataframe\">\n",
       "  <thead>\n",
       "    <tr style=\"text-align: right;\">\n",
       "      <th></th>\n",
       "      <th>id</th>\n",
       "      <th>pixels</th>\n",
       "    </tr>\n",
       "  </thead>\n",
       "  <tbody>\n",
       "    <tr>\n",
       "      <th>412</th>\n",
       "      <td>470</td>\n",
       "      <td>255 255 255 255 255 255 255 255 255 255 255 25...</td>\n",
       "    </tr>\n",
       "    <tr>\n",
       "      <th>570</th>\n",
       "      <td>612</td>\n",
       "      <td>220 218 219 220 218 219 220 218 219 220 218 21...</td>\n",
       "    </tr>\n",
       "    <tr>\n",
       "      <th>674</th>\n",
       "      <td>706</td>\n",
       "      <td>255 255 255 255 255 255 255 255 255 255 255 25...</td>\n",
       "    </tr>\n",
       "    <tr>\n",
       "      <th>725</th>\n",
       "      <td>752</td>\n",
       "      <td>255 255 255 255 255 255 255 255 255 255 255 25...</td>\n",
       "    </tr>\n",
       "    <tr>\n",
       "      <th>738</th>\n",
       "      <td>764</td>\n",
       "      <td>255 255 255 255 255 255 255 255 255 255 255 25...</td>\n",
       "    </tr>\n",
       "  </tbody>\n",
       "</table>\n",
       "</div>"
      ],
      "text/plain": [
       "      id                                             pixels\n",
       "412  470  255 255 255 255 255 255 255 255 255 255 255 25...\n",
       "570  612  220 218 219 220 218 219 220 218 219 220 218 21...\n",
       "674  706  255 255 255 255 255 255 255 255 255 255 255 25...\n",
       "725  752  255 255 255 255 255 255 255 255 255 255 255 25...\n",
       "738  764  255 255 255 255 255 255 255 255 255 255 255 25..."
      ]
     },
     "execution_count": 23,
     "metadata": {},
     "output_type": "execute_result"
    }
   ],
   "source": [
    "df[df.duplicated(subset='pixels')]"
   ]
  },
  {
   "cell_type": "markdown",
   "metadata": {},
   "source": [
    "# Cell 6: Mendapatkan ID Duplikat"
   ]
  },
  {
   "cell_type": "code",
   "execution_count": 24,
   "metadata": {},
   "outputs": [],
   "source": [
    "id_duplicate = df[df.duplicated(subset='pixels')]['id'].tolist()"
   ]
  },
  {
   "cell_type": "markdown",
   "metadata": {},
   "source": [
    "# Cell 7: Memetakan Label Jenis dan Menghitung Distribusi"
   ]
  },
  {
   "cell_type": "code",
   "execution_count": 25,
   "metadata": {},
   "outputs": [
    {
     "data": {
      "text/html": [
       "<div>\n",
       "<style scoped>\n",
       "    .dataframe tbody tr th:only-of-type {\n",
       "        vertical-align: middle;\n",
       "    }\n",
       "\n",
       "    .dataframe tbody tr th {\n",
       "        vertical-align: top;\n",
       "    }\n",
       "\n",
       "    .dataframe thead th {\n",
       "        text-align: right;\n",
       "    }\n",
       "</style>\n",
       "<table border=\"1\" class=\"dataframe\">\n",
       "  <thead>\n",
       "    <tr style=\"text-align: right;\">\n",
       "      <th></th>\n",
       "      <th>jenis</th>\n",
       "      <th>number</th>\n",
       "    </tr>\n",
       "  </thead>\n",
       "  <tbody>\n",
       "    <tr>\n",
       "      <th>0</th>\n",
       "      <td>Kaos</td>\n",
       "      <td>476</td>\n",
       "    </tr>\n",
       "    <tr>\n",
       "      <th>1</th>\n",
       "      <td>Hoodie</td>\n",
       "      <td>301</td>\n",
       "    </tr>\n",
       "  </tbody>\n",
       "</table>\n",
       "</div>"
      ],
      "text/plain": [
       "    jenis  number\n",
       "0    Kaos     476\n",
       "1  Hoodie     301"
      ]
     },
     "execution_count": 25,
     "metadata": {},
     "output_type": "execute_result"
    }
   ],
   "source": [
    "labels = {0:'Kaos', 1:'Hoodie'}\n",
    "counts = data['jenis'].value_counts(sort=True).reset_index()\n",
    "counts.columns = ['jenis', 'number']\n",
    "counts['jenis'] = counts['jenis'].map(labels)\n",
    "counts"
   ]
  },
  {
   "cell_type": "markdown",
   "metadata": {},
   "source": [
    "# Cell 8: Visualisasi Distribusi Kategori"
   ]
  },
  {
   "cell_type": "code",
   "execution_count": 26,
   "metadata": {},
   "outputs": [
    {
     "data": {
      "image/png": "[encoded data removed]",
      "text/plain": [
       "<Figure size 600x400 with 1 Axes>"
      ]
     },
     "metadata": {},
     "output_type": "display_data"
    }
   ],
   "source": [
    "counts_sorted = counts.sort_values(by='number', ascending=True)\n",
    "colors = sns.color_palette(\"Blues\", len(counts_sorted))\n",
    "\n",
    "plt.figure(figsize=(6, 4))\n",
    "sns.barplot(x=counts_sorted.jenis, y=counts_sorted.number, palette=colors, hue=counts_sorted.jenis)\n",
    "plt.title('Distribusi Kategori')\n",
    "plt.ylabel('Jumlah', fontsize=12)\n",
    "plt.xlabel('Kategori', fontsize=12)\n",
    "plt.show()"
   ]
  },
  {
   "cell_type": "markdown",
   "metadata": {},
   "source": [
    "# Cell 9: Memetakan Label Warna dan Menghitung Distribusi"
   ]
  },
  {
   "cell_type": "code",
   "execution_count": 27,
   "metadata": {},
   "outputs": [
    {
     "data": {
      "text/html": [
       "<div>\n",
       "<style scoped>\n",
       "    .dataframe tbody tr th:only-of-type {\n",
       "        vertical-align: middle;\n",
       "    }\n",
       "\n",
       "    .dataframe tbody tr th {\n",
       "        vertical-align: top;\n",
       "    }\n",
       "\n",
       "    .dataframe thead th {\n",
       "        text-align: right;\n",
       "    }\n",
       "</style>\n",
       "<table border=\"1\" class=\"dataframe\">\n",
       "  <thead>\n",
       "    <tr style=\"text-align: right;\">\n",
       "      <th></th>\n",
       "      <th>warna</th>\n",
       "      <th>number</th>\n",
       "    </tr>\n",
       "  </thead>\n",
       "  <tbody>\n",
       "    <tr>\n",
       "      <th>0</th>\n",
       "      <td>hitam</td>\n",
       "      <td>234</td>\n",
       "    </tr>\n",
       "    <tr>\n",
       "      <th>1</th>\n",
       "      <td>biru</td>\n",
       "      <td>162</td>\n",
       "    </tr>\n",
       "    <tr>\n",
       "      <th>2</th>\n",
       "      <td>putih</td>\n",
       "      <td>140</td>\n",
       "    </tr>\n",
       "    <tr>\n",
       "      <th>3</th>\n",
       "      <td>kuning</td>\n",
       "      <td>125</td>\n",
       "    </tr>\n",
       "    <tr>\n",
       "      <th>4</th>\n",
       "      <td>merah</td>\n",
       "      <td>116</td>\n",
       "    </tr>\n",
       "  </tbody>\n",
       "</table>\n",
       "</div>"
      ],
      "text/plain": [
       "    warna  number\n",
       "0   hitam     234\n",
       "1    biru     162\n",
       "2   putih     140\n",
       "3  kuning     125\n",
       "4   merah     116"
      ]
     },
     "execution_count": 27,
     "metadata": {},
     "output_type": "execute_result"
    }
   ],
   "source": [
    "labels = {0:'merah', 1:'kuning', 2:'biru', 3:'hitam', 4:'putih'}\n",
    "counts = data['warna'].value_counts(sort=True).reset_index()\n",
    "counts.columns = ['warna', 'number']\n",
    "counts['warna'] = counts['warna'].map(labels)\n",
    "counts"
   ]
  },
  {
   "cell_type": "markdown",
   "metadata": {},
   "source": [
    "# Cell 10: Visualisasi Distribusi Warna"
   ]
  },
  {
   "cell_type": "code",
   "execution_count": 28,
   "metadata": {},
   "outputs": [
    {
     "data": {
      "image/png": "[encoded data removed]",
      "text/plain": [
       "<Figure size 800x400 with 1 Axes>"
      ]
     },
     "metadata": {},
     "output_type": "display_data"
    }
   ],
   "source": [
    "counts_sorted = counts.sort_values(by='number', ascending=True)\n",
    "\n",
    "colors = sns.color_palette(\"Blues\", len(counts_sorted))\n",
    "\n",
    "plt.figure(figsize=(8, 4))\n",
    "sns.barplot(x=counts_sorted.warna, y=counts_sorted.number, palette=colors, hue=counts_sorted.warna)\n",
    "plt.title('Distribusi Warna')\n",
    "plt.ylabel('Jumlah', fontsize=12)\n",
    "plt.xlabel('Warna', fontsize=12)\n",
    "plt.show()"
   ]
  },
  {
   "cell_type": "markdown",
   "metadata": {},
   "source": [
    "# Cell 11: Fungsi untuk Mencari Path Gambar Berdasarkan ID"
   ]
  },
  {
   "cell_type": "code",
   "execution_count": 29,
   "metadata": {},
   "outputs": [],
   "source": [
    "# Menemukan path gambar berdasarkan ID gambar\n",
    "def find_file_path(img_dir, img_id):\n",
    "    for ext in ['jpg', 'png', 'jpeg']:\n",
    "        file_path = os.path.join(img_dir, f'{img_id}.{ext}')\n",
    "        if os.path.exists(file_path):\n",
    "            return file_path.replace('\\\\', '/')\n",
    "    return None"
   ]
  },
  {
   "cell_type": "markdown",
   "metadata": {},
   "source": [
    "# Cell 12: Kelas ClothingDataset untuk Dataset Kustom"
   ]
  },
  {
   "cell_type": "code",
   "execution_count": 30,
   "metadata": {},
   "outputs": [],
   "source": [
    "class ClothingDataset(Dataset):\n",
    "    def __init__(self, csv_file, img_dir, transform=None):\n",
    "        self.data = pd.read_csv(csv_file)\n",
    "        self.img_dir = img_dir\n",
    "        self.transform = transform\n",
    "        # menghapus data duplikat\n",
    "        # self.data = self.data[~self.data['id'].isin(id_duplicate)].reset_index(drop=True)\n",
    "\n",
    "    def __len__(self):\n",
    "        return len(self.data)\n",
    "\n",
    "    def __getitem__(self, idx):\n",
    "        # mendapatkan id dari file CSV\n",
    "        img_id = str(self.data.iloc[idx, 0])\n",
    "        # mendapatkan path gambar\n",
    "        img_path = find_file_path(self.img_dir, img_id)\n",
    "\n",
    "        # memeriksa apakah file ada\n",
    "        if not os.path.exists(img_path):\n",
    "            raise FileNotFoundError(f\"Gambar {img_path} tidak ditemukan.\")\n",
    "\n",
    "        # mengonversi gambar ke RGB\n",
    "        image = Image.open(img_path).convert(\"RGB\")\n",
    "\n",
    "        # mendapatkan label dari CSV\n",
    "        jenis = torch.tensor(self.data.iloc[idx, 1], dtype=torch.long)\n",
    "        warna = torch.tensor(self.data.iloc[idx, 2], dtype=torch.long)\n",
    "\n",
    "        # menerapkan transformasi pada gambar\n",
    "        if self.transform:\n",
    "            image = self.transform(image)\n",
    "\n",
    "        return image, jenis, warna"
   ]
  },
  {
   "cell_type": "markdown",
   "metadata": {},
   "source": [
    "# Cell 13: Definisi Transformasi dan Pemisahan Dataset"
   ]
  },
  {
   "cell_type": "code",
   "execution_count": 31,
   "metadata": {},
   "outputs": [],
   "source": [
    "# Mendefinisikan transformasi untuk gambar\n",
    "transform = transforms.Compose([\n",
    "    transforms.Resize((224, 224)),\n",
    "    transforms.ToTensor(),\n",
    "    transforms.Normalize([0.5, 0.5, 0.5], [0.5, 0.5, 0.5])\n",
    "])\n",
    "\n",
    "# Memuat data pelatihan\n",
    "full_train_dataset = ClothingDataset(csv_file=\"dataset/train.csv\", img_dir=\"dataset/train\", transform=transform)\n",
    "\n",
    "# Menetapkan seed\n",
    "torch.manual_seed(42)\n",
    "\n",
    "# Menentukan ukuran data pelatihan dan validasi (80% dan 20%)\n",
    "train_size = int(0.8 * len(full_train_dataset))\n",
    "val_size = len(full_train_dataset) - train_size\n",
    "\n",
    "# Menetapkan seed\n",
    "generator = torch.Generator().manual_seed(42)\n",
    "\n",
    "# Memisahkan dataset\n",
    "train_dataset, val_dataset = random_split(full_train_dataset, [train_size, val_size], generator=generator)\n",
    "\n",
    "# Membuat DataLoader untuk pelatihan dan validasi\n",
    "train_loader = DataLoader(train_dataset, batch_size=16, shuffle=True)\n",
    "val_loader = DataLoader(val_dataset, batch_size=16, shuffle=False)"
   ]
  },
  {
   "cell_type": "markdown",
   "metadata": {},
   "source": [
    "# Cell 14: Model Multi-Label ViT (Vision Transformer)"
   ]
  },
  {
   "cell_type": "code",
   "execution_count": 58,
   "metadata": {},
   "outputs": [
    {
     "name": "stderr",
     "output_type": "stream",
     "text": [
      "Some weights of ViTModel were not initialized from the model checkpoint at google/vit-base-patch16-224 and are newly initialized: ['vit.pooler.dense.bias', 'vit.pooler.dense.weight']\n",
      "You should probably TRAIN this model on a down-stream task to be able to use it for predictions and inference.\n"
     ]
    },
    {
     "data": {
      "text/plain": [
       "MultiLabelViT(\n",
       "  (vit): ViTModel(\n",
       "    (embeddings): ViTEmbeddings(\n",
       "      (patch_embeddings): ViTPatchEmbeddings(\n",
       "        (projection): Conv2d(3, 768, kernel_size=(16, 16), stride=(16, 16))\n",
       "      )\n",
       "      (dropout): Dropout(p=0.0, inplace=False)\n",
       "    )\n",
       "    (encoder): ViTEncoder(\n",
       "      (layer): ModuleList(\n",
       "        (0-11): 12 x ViTLayer(\n",
       "          (attention): ViTSdpaAttention(\n",
       "            (attention): ViTSdpaSelfAttention(\n",
       "              (query): Linear(in_features=768, out_features=768, bias=True)\n",
       "              (key): Linear(in_features=768, out_features=768, bias=True)\n",
       "              (value): Linear(in_features=768, out_features=768, bias=True)\n",
       "              (dropout): Dropout(p=0.0, inplace=False)\n",
       "            )\n",
       "            (output): ViTSelfOutput(\n",
       "              (dense): Linear(in_features=768, out_features=768, bias=True)\n",
       "              (dropout): Dropout(p=0.0, inplace=False)\n",
       "            )\n",
       "          )\n",
       "          (intermediate): ViTIntermediate(\n",
       "            (dense): Linear(in_features=768, out_features=3072, bias=True)\n",
       "            (intermediate_act_fn): GELUActivation()\n",
       "          )\n",
       "          (output): ViTOutput(\n",
       "            (dense): Linear(in_features=3072, out_features=768, bias=True)\n",
       "            (dropout): Dropout(p=0.0, inplace=False)\n",
       "          )\n",
       "          (layernorm_before): LayerNorm((768,), eps=1e-12, elementwise_affine=True)\n",
       "          (layernorm_after): LayerNorm((768,), eps=1e-12, elementwise_affine=True)\n",
       "        )\n",
       "      )\n",
       "    )\n",
       "    (layernorm): LayerNorm((768,), eps=1e-12, elementwise_affine=True)\n",
       "    (pooler): ViTPooler(\n",
       "      (dense): Linear(in_features=768, out_features=768, bias=True)\n",
       "      (activation): Tanh()\n",
       "    )\n",
       "  )\n",
       "  (classifier_jenis): Linear(in_features=768, out_features=1, bias=True)\n",
       "  (classifier_warna): Linear(in_features=768, out_features=5, bias=True)\n",
       ")"
      ]
     },
     "execution_count": 58,
     "metadata": {},
     "output_type": "execute_result"
    }
   ],
   "source": [
    "from transformers import ViTModel\n",
    "import torch.nn as nn\n",
    "\n",
    "class MultiLabelViT(nn.Module):\n",
    "    def __init__(self, pretrained_model_name='google/vit-base-patch16-224'):\n",
    "        super(MultiLabelViT, self).__init__()\n",
    "        # Memuat model pretrained\n",
    "        self.vit = ViTModel.from_pretrained(pretrained_model_name)\n",
    "\n",
    "        # Mendapatkan ukuran hidden layer dari model\n",
    "        hidden_size = self.vit.config.hidden_size\n",
    "\n",
    "        # Mendefinisikan kepala klasifikasi khusus\n",
    "        self.classifier_jenis = nn.Linear(hidden_size, 1) # untuk klasifikasi jenis, klasifikasi biner\n",
    "        self.classifier_warna = nn.Linear(hidden_size, 5) # untuk klasifikasi warna, multi-klasifikasi\n",
    "\n",
    "    def forward(self, pixel_values):\n",
    "        # Memproses gambar input melalui model ViT dan mendapatkan output\n",
    "        outputs = self.vit(pixel_values=pixel_values)\n",
    "\n",
    "        # Mengambil output dari layer tersembunyi terakhir\n",
    "        last_hidden_state = outputs.last_hidden_state\n",
    "\n",
    "        # Mendapatkan representasi token klasifikasi ([CLS])\n",
    "        cls_token = last_hidden_state[:, 0, :]\n",
    "\n",
    "        # Menghasilkan logits untuk setiap label\n",
    "        jenis_logits = self.classifier_jenis(cls_token)\n",
    "        warna_logits = self.classifier_warna(cls_token)\n",
    "\n",
    "        return jenis_logits, warna_logits\n",
    "\n",
    "# Inisialisasi model\n",
    "model = MultiLabelViT()\n",
    "\n",
    "# Tentukan perangkat yang akan digunakan (GPU jika tersedia, jika tidak menggunakan CPU)\n",
    "device = torch.device(\"cuda\" if torch.cuda.is_available() else \"cpu\")\n",
    "model.to(device)"
   ]
  },
  {
   "cell_type": "markdown",
   "metadata": {},
   "source": [
    "# Cell 15: Melihat Jumlah Parameter Model"
   ]
  },
  {
   "cell_type": "code",
   "execution_count": 59,
   "metadata": {},
   "outputs": [
    {
     "name": "stdout",
     "output_type": "stream",
     "text": [
      "num_params = 86,393,862 | trainable_params = 86,393,862\n"
     ]
    }
   ],
   "source": [
    "# Melihat jumlah parameter yang perlu diperbarui\n",
    "num_params = sum([p.numel() for p in model.parameters()])\n",
    "trainable_params = sum([p.numel() for p in model.parameters() if p.requires_grad])\n",
    "\n",
    "print(f\"{num_params = :,} | {trainable_params = :,}\")"
   ]
  },
  {
   "cell_type": "markdown",
   "metadata": {},
   "source": [
    "# Cell 16: Evaluasi Model Menggunakan Akurasi dan Rasio Kesesuaian Exact Match"
   ]
  },
  {
   "cell_type": "code",
   "execution_count": 60,
   "metadata": {},
   "outputs": [],
   "source": [
    "from sklearn.metrics import precision_recall_curve\n",
    "import numpy as np\n",
    "\n",
    "# Evaluasi model menggunakan akurasi dan rasio kecocokan tepat\n",
    "def evaluate_model(model, dataloader):\n",
    "    model.eval()\n",
    "    total_samples = 0\n",
    "    exact_match_count = 0\n",
    "    correct_jenis = 0\n",
    "    correct_warna = 0\n",
    "    all_true_labels = []\n",
    "    all_predicted_probs = []\n",
    "\n",
    "    with torch.no_grad():\n",
    "        for images, jenis, warna in dataloader:\n",
    "            images = images.to(device)\n",
    "            jenis = jenis.to(device).float().view(-1)\n",
    "            warna = warna.to(device)\n",
    "\n",
    "            # Forward pass\n",
    "            jenis_logits, warna_logits = model(images)\n",
    "\n",
    "            # Terapkan sigmoid untuk mengonversi logits menjadi probabilitas untuk klasifikasi biner\n",
    "            predicted_jenis = torch.sigmoid(jenis_logits)\n",
    "\n",
    "            # Menyimpan probabilitas prediksi dan label sebenarnya untuk perhitungan ROC-AUC\n",
    "            all_predicted_probs.extend(predicted_jenis.cpu().numpy())\n",
    "            all_true_labels.extend(jenis.cpu().numpy())\n",
    "\n",
    "            # Terapkan ambang batas 0.5\n",
    "            predicted_jenis = (predicted_jenis > 0.5).long().view(-1)\n",
    "\n",
    "            # Prediksi untuk klasifikasi multi-klasifikasi\n",
    "            _, predicted_warna = torch.max(warna_logits, 1)\n",
    "\n",
    "            # Hitung akurasi untuk setiap label\n",
    "            correct_jenis += (predicted_jenis == jenis.long()).sum().item()\n",
    "            correct_warna += (predicted_warna == warna).sum().item()\n",
    "\n",
    "            # Hitung rasio kecocokan tepat\n",
    "            exact_match_count += ((predicted_jenis == jenis.long()) & (predicted_warna == warna)).sum().item()\n",
    "            total_samples += jenis.size(0)\n",
    "\n",
    "    # Hitung metrik evaluasi lainnya\n",
    "    jenis_accuracy = correct_jenis / total_samples * 100\n",
    "    warna_accuracy = correct_warna / total_samples * 100\n",
    "    exact_match_ratio = exact_match_count / total_samples * 100\n",
    "\n",
    "    # Hitung precision-recall curve\n",
    "    precision, recall, thresholds = precision_recall_curve(all_true_labels, all_predicted_probs)\n",
    "\n",
    "    # Hitung threshold optimal\n",
    "    f1_scores = 2 * (precision * recall) / (precision + recall + 1e-7)\n",
    "    optimal_idx = np.argmax(f1_scores)\n",
    "    optimal_threshold = thresholds[optimal_idx]\n",
    "\n",
    "    print(f'Threshold Optimal: {optimal_threshold:.4f}')\n",
    "    print(f'Akurasi Jenis: {jenis_accuracy:.2f}%, Akurasi Warna: {warna_accuracy:.2f}%, Exact Match Ratio (EMR): {exact_match_ratio:.2f}%')"
   ]
  },
  {
   "cell_type": "markdown",
   "metadata": {},
   "source": [
    "# Cell 17: Definisi Fungsi Training dan Loop Pelatihan"
   ]
  },
  {
   "cell_type": "code",
   "execution_count": 61,
   "metadata": {},
   "outputs": [
    {
     "name": "stdout",
     "output_type": "stream",
     "text": [
      "Epoch [1/10], Loss: 0.733493\n",
      "Threshold Optimal: 0.8275\n",
      "Akurasi Jenis: 98.72%, Akurasi Warna: 97.44%, Exact Match Ratio (EMR): 96.15%\n",
      "Epoch [2/10], Loss: 0.104592\n",
      "Threshold Optimal: 0.4862\n",
      "Akurasi Jenis: 98.72%, Akurasi Warna: 98.08%, Exact Match Ratio (EMR): 96.79%\n",
      "Epoch [3/10], Loss: 0.065900\n",
      "Threshold Optimal: 0.5590\n",
      "Akurasi Jenis: 100.00%, Akurasi Warna: 98.08%, Exact Match Ratio (EMR): 98.08%\n",
      "Epoch [4/10], Loss: 0.047680\n",
      "Threshold Optimal: 0.3293\n",
      "Akurasi Jenis: 99.36%, Akurasi Warna: 100.00%, Exact Match Ratio (EMR): 99.36%\n",
      "Epoch [5/10], Loss: 0.044123\n",
      "Threshold Optimal: 0.4260\n",
      "Akurasi Jenis: 99.36%, Akurasi Warna: 100.00%, Exact Match Ratio (EMR): 99.36%\n",
      "Epoch [6/10], Loss: 0.042886\n",
      "Threshold Optimal: 0.4029\n",
      "Akurasi Jenis: 99.36%, Akurasi Warna: 100.00%, Exact Match Ratio (EMR): 99.36%\n",
      "Epoch [7/10], Loss: 0.042149\n",
      "Threshold Optimal: 0.3942\n",
      "Akurasi Jenis: 99.36%, Akurasi Warna: 100.00%, Exact Match Ratio (EMR): 99.36%\n",
      "Epoch [8/10], Loss: 0.041697\n",
      "Threshold Optimal: 0.3774\n",
      "Akurasi Jenis: 99.36%, Akurasi Warna: 100.00%, Exact Match Ratio (EMR): 99.36%\n",
      "Epoch [9/10], Loss: 0.041334\n",
      "Threshold Optimal: 0.3770\n",
      "Akurasi Jenis: 99.36%, Akurasi Warna: 100.00%, Exact Match Ratio (EMR): 99.36%\n",
      "Epoch [10/10], Loss: 0.041153\n",
      "Threshold Optimal: 0.3563\n",
      "Akurasi Jenis: 99.36%, Akurasi Warna: 100.00%, Exact Match Ratio (EMR): 99.36%\n"
     ]
    }
   ],
   "source": [
    "import torch.nn.functional as F\n",
    "import torch.optim as optim\n",
    "\n",
    "# Mendefinisikan argumen pelatihan\n",
    "lossFunc_jenis = nn.BCEWithLogitsLoss()  # Loss biner untuk 'jenis'\n",
    "lossFunc_warna = nn.CrossEntropyLoss()  # Loss multi-klasifikasi untuk 'warna'\n",
    "alpha = 0.1  # Bobot penalti untuk EMR\n",
    "optimizer = optim.Adam(model.parameters(), lr=1e-4)\n",
    "\n",
    "# Loop pelatihan\n",
    "num_epochs = 10\n",
    "for epoch in range(num_epochs):\n",
    "    model.train()\n",
    "    total_loss_epoch = 0\n",
    "\n",
    "    for images, jenis, warna in train_loader:\n",
    "        images, jenis, warna = images.to(device), jenis.to(device).float(), warna.to(device).float()\n",
    "\n",
    "        optimizer.zero_grad()\n",
    "\n",
    "        # Forward pass\n",
    "        jenis_logits, warna_logits = model(images)\n",
    "\n",
    "        # Menghitung loss untuk setiap label\n",
    "        loss_jenis = lossFunc_jenis(jenis_logits, jenis.unsqueeze(1))\n",
    "        loss_warna = lossFunc_warna(warna_logits, warna.long())\n",
    "\n",
    "        # Loss kustom untuk exact match\n",
    "        _, predicted_jenis = torch.max(jenis_logits, dim=1)\n",
    "        _, predicted_warna = torch.max(warna_logits, dim=1)\n",
    "        correct_predictions = (predicted_jenis == jenis) & (predicted_warna == warna)\n",
    "        penalti_EMR = (1 - correct_predictions.float()).mean()\n",
    "\n",
    "        # Menggabungkan loss\n",
    "        total_loss = loss_jenis + loss_warna + alpha * penalti_EMR\n",
    "        \n",
    "        # Backward pass\n",
    "        total_loss.backward()\n",
    "        optimizer.step()\n",
    "\n",
    "        total_loss_epoch += total_loss.item()\n",
    "\n",
    "    avg_loss = total_loss_epoch / len(train_loader)\n",
    "    print(f\"Epoch [{epoch+1}/{num_epochs}], Loss: {avg_loss:.6f}\")\n",
    "\n",
    "    # Evaluasi model\n",
    "    evaluate_model(model, val_loader)"
   ]
  },
  {
   "cell_type": "markdown",
   "metadata": {},
   "source": [
    "# Cell 18: Menyimpan Model yang Terlatih"
   ]
  },
  {
   "cell_type": "code",
   "execution_count": 62,
   "metadata": {},
   "outputs": [],
   "source": [
    "torch.save(model.state_dict(), \"dataset/multilabel_vit-1.pth\")"
   ]
  },
  {
   "cell_type": "markdown",
   "metadata": {},
   "source": [
    "# Cell 19: Memuat Model yang Terlatih"
   ]
  },
  {
   "cell_type": "code",
   "execution_count": 63,
   "metadata": {},
   "outputs": [
    {
     "name": "stderr",
     "output_type": "stream",
     "text": [
      "Some weights of ViTModel were not initialized from the model checkpoint at google/vit-base-patch16-224 and are newly initialized: ['vit.pooler.dense.bias', 'vit.pooler.dense.weight']\n",
      "You should probably TRAIN this model on a down-stream task to be able to use it for predictions and inference.\n",
      "C:\\Users\\yazid\\AppData\\Local\\Temp\\ipykernel_9868\\4115369470.py:3: FutureWarning: You are using `torch.load` with `weights_only=False` (the current default value), which uses the default pickle module implicitly. It is possible to construct malicious pickle data which will execute arbitrary code during unpickling (See https://github.com/pytorch/pytorch/blob/main/SECURITY.md#untrusted-models for more details). In a future release, the default value for `weights_only` will be flipped to `True`. This limits the functions that could be executed during unpickling. Arbitrary objects will no longer be allowed to be loaded via this mode unless they are explicitly allowlisted by the user via `torch.serialization.add_safe_globals`. We recommend you start setting `weights_only=True` for any use case where you don't have full control of the loaded file. Please open an issue on GitHub for any issues related to this experimental feature.\n",
      "  model.load_state_dict(torch.load(\"dataset/multilabel_vit-1.pth\", map_location=device))\n"
     ]
    },
    {
     "data": {
      "text/plain": [
       "MultiLabelViT(\n",
       "  (vit): ViTModel(\n",
       "    (embeddings): ViTEmbeddings(\n",
       "      (patch_embeddings): ViTPatchEmbeddings(\n",
       "        (projection): Conv2d(3, 768, kernel_size=(16, 16), stride=(16, 16))\n",
       "      )\n",
       "      (dropout): Dropout(p=0.0, inplace=False)\n",
       "    )\n",
       "    (encoder): ViTEncoder(\n",
       "      (layer): ModuleList(\n",
       "        (0-11): 12 x ViTLayer(\n",
       "          (attention): ViTSdpaAttention(\n",
       "            (attention): ViTSdpaSelfAttention(\n",
       "              (query): Linear(in_features=768, out_features=768, bias=True)\n",
       "              (key): Linear(in_features=768, out_features=768, bias=True)\n",
       "              (value): Linear(in_features=768, out_features=768, bias=True)\n",
       "              (dropout): Dropout(p=0.0, inplace=False)\n",
       "            )\n",
       "            (output): ViTSelfOutput(\n",
       "              (dense): Linear(in_features=768, out_features=768, bias=True)\n",
       "              (dropout): Dropout(p=0.0, inplace=False)\n",
       "            )\n",
       "          )\n",
       "          (intermediate): ViTIntermediate(\n",
       "            (dense): Linear(in_features=768, out_features=3072, bias=True)\n",
       "            (intermediate_act_fn): GELUActivation()\n",
       "          )\n",
       "          (output): ViTOutput(\n",
       "            (dense): Linear(in_features=3072, out_features=768, bias=True)\n",
       "            (dropout): Dropout(p=0.0, inplace=False)\n",
       "          )\n",
       "          (layernorm_before): LayerNorm((768,), eps=1e-12, elementwise_affine=True)\n",
       "          (layernorm_after): LayerNorm((768,), eps=1e-12, elementwise_affine=True)\n",
       "        )\n",
       "      )\n",
       "    )\n",
       "    (layernorm): LayerNorm((768,), eps=1e-12, elementwise_affine=True)\n",
       "    (pooler): ViTPooler(\n",
       "      (dense): Linear(in_features=768, out_features=768, bias=True)\n",
       "      (activation): Tanh()\n",
       "    )\n",
       "  )\n",
       "  (classifier_jenis): Linear(in_features=768, out_features=1, bias=True)\n",
       "  (classifier_warna): Linear(in_features=768, out_features=5, bias=True)\n",
       ")"
      ]
     },
     "execution_count": 63,
     "metadata": {},
     "output_type": "execute_result"
    }
   ],
   "source": [
    "# Memuat model\n",
    "model = MultiLabelViT()\n",
    "model.load_state_dict(torch.load(\"dataset/multilabel_vit-1.pth\", map_location=device))\n",
    "model.to(device)"
   ]
  },
  {
   "cell_type": "markdown",
   "metadata": {},
   "source": [
    "# Cell 20: Membuat CSV untuk Data Pengujian"
   ]
  },
  {
   "cell_type": "code",
   "execution_count": 64,
   "metadata": {},
   "outputs": [],
   "source": [
    "# Membuat file CSV untuk data pengujian\n",
    "def create_test_csv(img_dir, output_csv):\n",
    "    # Mendaftar semua file di direktori pengujian\n",
    "    img_files = os.listdir(img_dir)\n",
    "\n",
    "    # Mengekstrak ID dari nama file\n",
    "    img_ids = [os.path.splitext(f)[0] for f in img_files]\n",
    "\n",
    "    # Membuat dataframe untuk data pengujian dengan kolom jenis dan warna yang diisi dengan nilai null\n",
    "    df = pd.DataFrame({\n",
    "        'id': img_ids,\n",
    "        'jenis': -1,\n",
    "        'warna': -1\n",
    "    })\n",
    "    df = df.sort_values(by='id', ascending=True)\n",
    "    # Menyimpan dataframe ke file CSV\n",
    "    df.to_csv(output_csv, index=False)\n",
    "\n",
    "# Membuat file CSV untuk data pengujian\n",
    "create_test_csv('dataset/test', 'dataset/sample_submission.csv')"
   ]
  },
  {
   "cell_type": "markdown",
   "metadata": {},
   "source": [
    "# Cell 21: Prediksi dan Menyimpan Hasil ke CSV"
   ]
  },
  {
   "cell_type": "code",
   "execution_count": 65,
   "metadata": {},
   "outputs": [
    {
     "name": "stderr",
     "output_type": "stream",
     "text": [
      "C:\\Users\\yazid\\AppData\\Local\\Temp\\ipykernel_9868\\417865351.py:25: DeprecationWarning: Conversion of an array with ndim > 0 to a scalar is deprecated, and will error in future. Ensure you extract a single element from your array before performing this operation. (Deprecated NumPy 1.25.)\n",
      "  predictions.append((int(jenis), int(warna)))\n"
     ]
    },
    {
     "name": "stdout",
     "output_type": "stream",
     "text": [
      "Prediksi disimpan di dataset/sample_submission.csv\n"
     ]
    }
   ],
   "source": [
    "def predict_and_save(model, test_csv, img_dir, output_csv, transform, batch_size=16, threshold=0.5):\n",
    "    # Memuat dataset pengujian dan membuat dataloader\n",
    "    test_dataset = ClothingDataset(csv_file=test_csv, img_dir=img_dir, transform=transform)\n",
    "    test_loader = DataLoader(test_dataset, batch_size=batch_size, shuffle=False)\n",
    "\n",
    "    model.eval()\n",
    "    predictions = []\n",
    "\n",
    "    with torch.no_grad():\n",
    "        for images, _, _ in test_loader:\n",
    "            images = images.to(device)\n",
    "\n",
    "            # Mendapatkan prediksi\n",
    "            jenis_logits, warna_logits = model(images)\n",
    "\n",
    "            # Prediksi untuk label jenis\n",
    "            predicted_jenis = torch.sigmoid(jenis_logits)\n",
    "            predicted_jenis = (predicted_jenis > threshold).long()  # Terapkan ambang batas optimal\n",
    "            \n",
    "            # Prediksi untuk label warna\n",
    "            _, predicted_warna = torch.max(warna_logits, 1)\n",
    "\n",
    "            # Menyimpan prediksi\n",
    "            for jenis, warna in zip(predicted_jenis.cpu().numpy(), predicted_warna.cpu().numpy()):\n",
    "                predictions.append((int(jenis), int(warna)))\n",
    "\n",
    "    # Memuat CSV pengujian dan memperbarui kolom jenis dan warna dengan prediksi\n",
    "    df = pd.read_csv(test_csv)\n",
    "    df['jenis'] = [p[0] for p in predictions]\n",
    "    df['warna'] = [p[1] for p in predictions]\n",
    "\n",
    "    # Menyimpan CSV\n",
    "    df = df.sort_values(by='id', ascending=True)\n",
    "    df.to_csv(output_csv, index=False)\n",
    "    print(f\"Prediksi disimpan di {output_csv}\")\n",
    "\n",
    "# Menjalankan prediksi dan menyimpan hasilnya\n",
    "opt_threshold = 0.7\n",
    "predict_and_save(model,\n",
    "                 test_csv='dataset/sample_submission.csv',\n",
    "                 img_dir='dataset/test',\n",
    "                 output_csv='dataset/sample_submission.csv',\n",
    "                 transform=transform, threshold=opt_threshold)"
   ]
  }
 ],
 "metadata": {
  "kernelspec": {
   "display_name": "Python 3",
   "language": "python",
   "name": "python3"
  },
  "language_info": {
   "codemirror_mode": {
    "name": "ipython",
    "version": 3
   },
   "file_extension": ".py",
   "mimetype": "text/x-python",
   "name": "python",
   "nbconvert_exporter": "python",
   "pygments_lexer": "ipython3",
   "version": "3.12.1"
  }
 },
 "nbformat": 4,
 "nbformat_minor": 2
}
